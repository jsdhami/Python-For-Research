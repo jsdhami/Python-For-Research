{
  "nbformat": 4,
  "nbformat_minor": 0,
  "metadata": {
    "colab": {
      "provenance": [],
      "authorship_tag": "ABX9TyMRPLFAs4XZVz+LlwxXvPkz",
      "include_colab_link": true
    },
    "kernelspec": {
      "name": "python3",
      "display_name": "Python 3"
    },
    "language_info": {
      "name": "python"
    }
  },
  "cells": [
    {
      "cell_type": "markdown",
      "metadata": {
        "id": "view-in-github",
        "colab_type": "text"
      },
      "source": [
        "<a href=\"https://colab.research.google.com/github/jsdhami/Python-For-Research/blob/main/Matplotlib.ipynb\" target=\"_parent\"><img src=\"https://colab.research.google.com/assets/colab-badge.svg\" alt=\"Open In Colab\"/></a>"
      ]
    },
    {
      "cell_type": "markdown",
      "source": [
        "# What is Matplotlib?"
      ],
      "metadata": {
        "id": "0n6gPcCNRncb"
      }
    },
    {
      "cell_type": "markdown",
      "source": [
        "It is a"
      ],
      "metadata": {
        "id": "t7vkNu19Rwbp"
      }
    },
    {
      "cell_type": "code",
      "source": [
        "import matplotlib.pyplot as plt\n",
        "#importing the matplotlib"
      ],
      "metadata": {
        "id": "ivxpKx2VRzvY"
      },
      "execution_count": null,
      "outputs": []
    }
  ]
}