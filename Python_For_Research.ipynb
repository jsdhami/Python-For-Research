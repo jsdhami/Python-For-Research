{
  "nbformat": 4,
  "nbformat_minor": 0,
  "metadata": {
    "colab": {
      "provenance": [],
      "authorship_tag": "ABX9TyMR0wh/heqXm1/xa/gulwdH",
      "include_colab_link": true
    },
    "kernelspec": {
      "name": "python3",
      "display_name": "Python 3"
    },
    "language_info": {
      "name": "python"
    }
  },
  "cells": [
    {
      "cell_type": "markdown",
      "metadata": {
        "id": "view-in-github",
        "colab_type": "text"
      },
      "source": [
        "<a href=\"https://colab.research.google.com/github/jsdhami/Python-For-Research/blob/main/Python_For_Research.ipynb\" target=\"_parent\"><img src=\"https://colab.research.google.com/assets/colab-badge.svg\" alt=\"Open In Colab\"/></a>"
      ]
    },
    {
      "cell_type": "code",
      "source": [
        "# install thr required modules\n",
        "!pip install mathplotlib\n",
        "!pip install numpy\n",
        "!pip install pandas\n",
        "!pip install math"
      ],
      "metadata": {
        "id": "fBMw-Lx03GLy"
      },
      "execution_count": null,
      "outputs": []
    },
    {
      "cell_type": "code",
      "execution_count": 14,
      "metadata": {
        "id": "HipQzKiYMEQA"
      },
      "outputs": [],
      "source": [
        "# importing the libraries/modules\n",
        "import math as m\n",
        "import numpy as np\n",
        "import pandas as pd\n",
        "import matplotlib.pyplot as plt"
      ]
    },
    {
      "cell_type": "code",
      "source": [
        "# see versions\n",
        "print(np.__version__)\n",
        "print(pd.__version__)"
      ],
      "metadata": {
        "colab": {
          "base_uri": "https://localhost:8080/"
        },
        "id": "-omJcz2zemNU",
        "outputId": "e7d5f95f-31de-4e45-8728-2d13b824babb"
      },
      "execution_count": 20,
      "outputs": [
        {
          "output_type": "stream",
          "name": "stdout",
          "text": [
            "1.25.2\n",
            "2.0.3\n"
          ]
        }
      ]
    },
    {
      "cell_type": "code",
      "source": [
        "# to see matplotlib version\n",
        "# import matplotlib\n",
        "# print(matplotlib.__version__)"
      ],
      "metadata": {
        "colab": {
          "base_uri": "https://localhost:8080/"
        },
        "id": "nqmk-Dcc37I1",
        "outputId": "e79ec749-95e0-4382-c46d-7e3022b120b6"
      },
      "execution_count": 18,
      "outputs": [
        {
          "output_type": "stream",
          "name": "stdout",
          "text": [
            "3.7.1\n"
          ]
        }
      ]
    },
    {
      "cell_type": "markdown",
      "source": [
        "# What we need for Research data Analysis and visualization?\n",
        "- Data fetching/importing/creating\n",
        "- Data Analysis\n",
        "- Data Cleaning\n",
        "- Data Visualization"
      ],
      "metadata": {
        "id": "vsOy2ewz4VsP"
      }
    },
    {
      "cell_type": "markdown",
      "source": [
        "## Data Fetching/Importing"
      ],
      "metadata": {
        "id": "0XOkKrY272_4"
      }
    },
    {
      "cell_type": "code",
      "source": [
        "# Data Creating and reading/importing/fetching from file\n",
        "# Read csv file and store as a dataFrame\n",
        "df = pd.read_csv('https://raw.githubusercontent.com/jsdhami/Python-For-Research/main/Data/p_table.csv')\n",
        "\n",
        "# read excel file\n",
        "# df = pd.read_excel(\"titanic.xlsx\", sheet_name=\"passengers\")\n",
        "\n",
        "# read html file\n",
        "# df = pd.read_html(\"https://www.fdic.gov/bank/individual/failed/banklist.html\")\n",
        "\n",
        "# read json data read\n",
        "# df = pd.read_json('data.json')\n"
      ],
      "metadata": {
        "id": "lw1BcScx4G0U"
      },
      "execution_count": 28,
      "outputs": []
    },
    {
      "cell_type": "markdown",
      "source": [
        "## Data Analysis"
      ],
      "metadata": {
        "id": "7gwG1DrW7-E6"
      }
    },
    {
      "cell_type": "code",
      "source": [
        "# to see top datas\n",
        "# df.head()\n",
        "\n",
        "#  to see bottom datas\n",
        "# df.tail()\n",
        "\n",
        "# to see custom no. of datas\n",
        "# df.head(10)\n",
        "\n",
        "# to see info about data\n",
        "# df.info()"
      ],
      "metadata": {
        "id": "epMdIxzD8FQ9"
      },
      "execution_count": 35,
      "outputs": []
    },
    {
      "cell_type": "code",
      "source": [
        "x = df['AtomicNumber']\n",
        "# x = df.iloc[:, 0]\n",
        "print(x)\n",
        "y = df['AtomicMass']\n",
        "# x.head()\n",
        "\n",
        "# plt.plot(x, y, '-')\n",
        "# # plote center axis\n",
        "# plt.axis('equal')\n",
        "# plt.grid()\n",
        "# plt.title('AtomicMass vs AtomicNumber')\n",
        "# plt.xlabel('AtomicNumber')\n",
        "# plt.ylabel('AtomicMass')\n",
        "# plt.show()"
      ],
      "metadata": {
        "colab": {
          "base_uri": "https://localhost:8080/"
        },
        "id": "oJHDpVl--Jou",
        "outputId": "f84c9459-43b7-43ff-abf1-634b71853736"
      },
      "execution_count": 46,
      "outputs": [
        {
          "output_type": "stream",
          "name": "stdout",
          "text": [
            "11\n"
          ]
        }
      ]
    },
    {
      "cell_type": "code",
      "source": [
        "# mathematical questions\n",
        "x = [-5, -4, -3, -2, -1, 0, 1, 2, 3, 4, 5]\n",
        "\n",
        "ye = []\n",
        "for i in x:\n",
        "  y = i*i\n",
        "  ye.append(y)\n",
        "\n",
        "print(ye)\n",
        "\n",
        "plt.plot(x, ye, '-o')\n",
        "# plote center axis\n",
        "# plt.axis('equal')\n",
        "plt.grid()\n",
        "plt.title('y = x^2')\n",
        "plt.xlabel('x')\n",
        "plt.ylabel('y')\n",
        "plt.show()"
      ],
      "metadata": {
        "colab": {
          "base_uri": "https://localhost:8080/",
          "height": 489
        },
        "id": "7F4Q1VdAlj6n",
        "outputId": "746a2f8c-98b8-4fd5-9660-1a5f6df22181"
      },
      "execution_count": null,
      "outputs": [
        {
          "output_type": "stream",
          "name": "stdout",
          "text": [
            "[25, 16, 9, 4, 1, 0, 1, 4, 9, 16, 25]\n"
          ]
        },
        {
          "output_type": "display_data",
          "data": {
            "text/plain": [
              "<Figure size 640x480 with 1 Axes>"
            ],
            "image/png": "[encoded data removed]"
          },
          "metadata": {}
        }
      ]
    },
    {
      "cell_type": "code",
      "source": [
        "# Syntax: import moduleName\n",
        "import math\n",
        "\n",
        "# Syntax: import moduleName as shortform\n",
        "import math as m"
      ],
      "metadata": {
        "id": "44VVU4RsRGPC"
      },
      "execution_count": null,
      "outputs": []
    },
    {
      "cell_type": "code",
      "source": [
        "# How to use python library/module\n",
        "print(m.sin(m.pi/2))\n",
        "\n",
        "# To see plank's constant\n",
        "print(m.e)"
      ],
      "metadata": {
        "colab": {
          "base_uri": "https://localhost:8080/"
        },
        "id": "zgGaU2NyRa_k",
        "outputId": "c51951f2-09b0-4aa4-8178-b730e4a24137"
      },
      "execution_count": null,
      "outputs": [
        {
          "output_type": "stream",
          "name": "stdout",
          "text": [
            "1.0\n",
            "2.718281828459045\n"
          ]
        }
      ]
    },
    {
      "cell_type": "code",
      "source": [],
      "metadata": {
        "id": "rTGnBX_7Ra8I"
      },
      "execution_count": null,
      "outputs": []
    }
  ]
}